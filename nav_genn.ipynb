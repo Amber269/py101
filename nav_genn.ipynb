{
 "cells": [
  {
   "cell_type": "code",
   "execution_count": 2,
   "id": "902c73a0",
   "metadata": {},
   "outputs": [
    {
     "name": "stdout",
     "output_type": "stream",
     "text": [
      "✅ nav 自动生成完毕！\n"
     ]
    }
   ],
   "source": [
    "import os\n",
    "import yaml\n",
    "import re\n",
    "\n",
    "DOCS_DIR = \"docs\"\n",
    "\n",
    "def extract_title_from_file(filepath):\n",
    "    with open(filepath, \"r\", encoding=\"utf-8\") as f:\n",
    "        for line in f:\n",
    "            # 匹配 Markdown 一级标题\n",
    "            match = re.match(r\"# (.+)\", line)\n",
    "            if match:\n",
    "                return match.group(1).strip()\n",
    "    # 如果没有一级标题，用文件名\n",
    "    return os.path.splitext(os.path.basename(filepath))[0].replace(\"_\", \" \").title()\n",
    "\n",
    "def generate_nav(path=DOCS_DIR):\n",
    "    nav = []\n",
    "\n",
    "    for root, dirs, files in os.walk(path):\n",
    "        rel_dir = os.path.relpath(root, path)\n",
    "        if rel_dir == \".\":\n",
    "            rel_dir = \"\"\n",
    "        items = []\n",
    "\n",
    "        for file in sorted(files):\n",
    "            if file.endswith(\".md\"):\n",
    "                filepath = os.path.join(root, file)\n",
    "                nav_title = extract_title_from_file(filepath)\n",
    "                relative_path = os.path.relpath(filepath, path).replace(\"\\\\\", \"/\")\n",
    "                items.append({nav_title: relative_path})\n",
    "\n",
    "        if rel_dir == \"\":\n",
    "            nav.extend(items)\n",
    "        elif items:\n",
    "            section_title = rel_dir.replace(\"_\", \" \").title()\n",
    "            nav.append({section_title: items})\n",
    "\n",
    "    return nav\n",
    "\n",
    "# 载入原始 mkdocs.yml\n",
    "with open(\"mkdocs.yml\", \"r\", encoding=\"utf-8\") as f:\n",
    "    config = yaml.safe_load(f)\n",
    "\n",
    "# 替换 nav\n",
    "config[\"nav\"] = generate_nav()\n",
    "\n",
    "# 写入回 mkdocs.yml\n",
    "with open(\"mkdocs.yml\", \"w\", encoding=\"utf-8\") as f:\n",
    "    yaml.dump(config, f, allow_unicode=True, sort_keys=False)\n",
    "\n",
    "print(\"✅ nav 自动生成完毕！\")\n"
   ]
  },
  {
   "cell_type": "code",
   "execution_count": null,
   "id": "e06af981",
   "metadata": {},
   "outputs": [],
   "source": []
  }
 ],
 "metadata": {
  "kernelspec": {
   "display_name": "base",
   "language": "python",
   "name": "python3"
  },
  "language_info": {
   "codemirror_mode": {
    "name": "ipython",
    "version": 3
   },
   "file_extension": ".py",
   "mimetype": "text/x-python",
   "name": "python",
   "nbconvert_exporter": "python",
   "pygments_lexer": "ipython3",
   "version": "3.12.9"
  }
 },
 "nbformat": 4,
 "nbformat_minor": 5
}
